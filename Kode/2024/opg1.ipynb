{
 "cells": [
  {
   "cell_type": "code",
   "execution_count": 59,
   "metadata": {},
   "outputs": [],
   "source": [
    "import os, sys\n",
    "sys.path.insert(0, os.path.abspath('..'))\n",
    "import numpy as np\n",
    "import nashpy as nash\n",
    "from IPython.display import display\n",
    "import support_enumeration as se\n",
    "import BNE as BNE\n",
    "import IESDS as IESDS"
   ]
  },
  {
   "cell_type": "markdown",
   "metadata": {},
   "source": [
    "### 1.1"
   ]
  },
  {
   "cell_type": "markdown",
   "metadata": {},
   "source": [
    "### 1.2"
   ]
  },
  {
   "cell_type": "code",
   "execution_count": 60,
   "metadata": {},
   "outputs": [
    {
     "name": "stdout",
     "output_type": "stream",
     "text": [
      "[(array([0.4, 0.6]), array([0.4, 0.6]))]\n",
      "[(array([0.5, 0.5]), array([0.5, 0.5]))]\n",
      "[(array([0.6, 0.4]), array([0.6, 0.4]))]\n"
     ]
    }
   ],
   "source": [
    "for theta in [-1/10, 0, 1/10]:\n",
    "    U1 = np.array([[(1/2) + theta, 1], \n",
    "                   [1, (1/2) - theta]])\n",
    "    U2 = np.array([[-(1/2) - theta, -1], \n",
    "                   [-1, -(1/2) + theta]])\n",
    "\n",
    "    NE = se.msne(U1, U2)\n",
    "\n",
    "    print(NE)"
   ]
  },
  {
   "cell_type": "markdown",
   "metadata": {},
   "source": [
    "### 1.3"
   ]
  },
  {
   "cell_type": "markdown",
   "metadata": {},
   "source": [
    "Svaret i paint."
   ]
  },
  {
   "cell_type": "markdown",
   "metadata": {},
   "source": [
    "### 1.4"
   ]
  },
  {
   "cell_type": "code",
   "execution_count": 61,
   "metadata": {},
   "outputs": [],
   "source": [
    "theta1 = -1/10\n",
    "theta2 = 1/10\n",
    "\n",
    "U1_A = np.array([[(1/2) + theta1, 1], \n",
    "                   [1, (1/2) - theta1]])\n",
    "U1_B = np.array([[-(1/2) + theta2, 1], \n",
    "                   [1, (1/2) - theta2]])\n",
    "\n",
    "\n",
    "U2_A = np.array([[-(1/2) - theta1, -1], \n",
    "                   [-1, -(1/2) + theta1]])\n",
    "U2_B = np.array([[-(1/2) - theta2, -1], \n",
    "                   [-1, -(1/2) + theta2]])\n"
   ]
  },
  {
   "cell_type": "code",
   "execution_count": 62,
   "metadata": {},
   "outputs": [
    {
     "name": "stdout",
     "output_type": "stream",
     "text": [
      "p = 0.5: BNE []\n"
     ]
    },
    {
     "name": "stderr",
     "output_type": "stream",
     "text": [
      "c:\\Users\\elias\\anaconda3\\Lib\\site-packages\\nashpy\\algorithms\\support_enumeration.py:260: RuntimeWarning: \n",
      "An even number of (0) equilibria was returned. This\n",
      "indicates that the game is degenerate. Consider using another algorithm\n",
      "to investigate.\n",
      "                  \n",
      "  warnings.warn(warning, RuntimeWarning)\n"
     ]
    },
    {
     "data": {
      "text/html": [
       "<div>\n",
       "<style scoped>\n",
       "    .dataframe tbody tr th:only-of-type {\n",
       "        vertical-align: middle;\n",
       "    }\n",
       "\n",
       "    .dataframe tbody tr th {\n",
       "        vertical-align: top;\n",
       "    }\n",
       "\n",
       "    .dataframe thead th {\n",
       "        text-align: right;\n",
       "    }\n",
       "</style>\n",
       "<table border=\"1\" class=\"dataframe\">\n",
       "  <thead>\n",
       "    <tr style=\"text-align: right;\">\n",
       "      <th></th>\n",
       "      <th>LL</th>\n",
       "      <th>LR</th>\n",
       "      <th>RL</th>\n",
       "      <th>RR</th>\n",
       "    </tr>\n",
       "  </thead>\n",
       "  <tbody>\n",
       "    <tr>\n",
       "      <th>L</th>\n",
       "      <td>0.0</td>\n",
       "      <td>0.7</td>\n",
       "      <td>0.3</td>\n",
       "      <td>1.0</td>\n",
       "    </tr>\n",
       "    <tr>\n",
       "      <th>R</th>\n",
       "      <td>1.0</td>\n",
       "      <td>0.7</td>\n",
       "      <td>0.8</td>\n",
       "      <td>0.5</td>\n",
       "    </tr>\n",
       "  </tbody>\n",
       "</table>\n",
       "</div>"
      ],
      "text/plain": [
       "    LL   LR   RL   RR\n",
       "L  0.0  0.7  0.3  1.0\n",
       "R  1.0  0.7  0.8  0.5"
      ]
     },
     "metadata": {},
     "output_type": "display_data"
    },
    {
     "data": {
      "text/html": [
       "<div>\n",
       "<style scoped>\n",
       "    .dataframe tbody tr th:only-of-type {\n",
       "        vertical-align: middle;\n",
       "    }\n",
       "\n",
       "    .dataframe tbody tr th {\n",
       "        vertical-align: top;\n",
       "    }\n",
       "\n",
       "    .dataframe thead th {\n",
       "        text-align: right;\n",
       "    }\n",
       "</style>\n",
       "<table border=\"1\" class=\"dataframe\">\n",
       "  <thead>\n",
       "    <tr style=\"text-align: right;\">\n",
       "      <th></th>\n",
       "      <th>LL</th>\n",
       "      <th>LR</th>\n",
       "      <th>RL</th>\n",
       "      <th>RR</th>\n",
       "    </tr>\n",
       "  </thead>\n",
       "  <tbody>\n",
       "    <tr>\n",
       "      <th>L</th>\n",
       "      <td>-0.5</td>\n",
       "      <td>-0.7</td>\n",
       "      <td>-0.8</td>\n",
       "      <td>-1.0</td>\n",
       "    </tr>\n",
       "    <tr>\n",
       "      <th>R</th>\n",
       "      <td>-1.0</td>\n",
       "      <td>-0.7</td>\n",
       "      <td>-0.8</td>\n",
       "      <td>-0.5</td>\n",
       "    </tr>\n",
       "  </tbody>\n",
       "</table>\n",
       "</div>"
      ],
      "text/plain": [
       "    LL   LR   RL   RR\n",
       "L -0.5 -0.7 -0.8 -1.0\n",
       "R -1.0 -0.7 -0.8 -0.5"
      ]
     },
     "metadata": {},
     "output_type": "display_data"
    }
   ],
   "source": [
    "U1 = [U1_A ,U1_B]\n",
    "U2 = [U2_A,U2_B]\n",
    "\n",
    "action = ['L','R']\n",
    "\n",
    "BU1, BU2 = BNE.compute_full_matrix(U1,U2,(1/2), action, action)\n",
    "\n",
    "#IESDS\n",
    "# U1, U2, aa1, aa2 = IESDS.IESDS(BU1[0], BU2[0])\n",
    "\n",
    "result = BNE.compute_bne(BU1[0],BU2[0])\n",
    "\n",
    "print(f\"p = {1/2}: BNE {result}\")\n",
    "display(BU1[1])\n",
    "display(BU2[1])"
   ]
  },
  {
   "cell_type": "code",
   "execution_count": 63,
   "metadata": {},
   "outputs": [
    {
     "name": "stdout",
     "output_type": "stream",
     "text": [
      "a=2 is strictly dominated by a=1\n",
      "No further strategies to delete after 1 iterations\n",
      "p = 0.5: BNE []\n"
     ]
    },
    {
     "name": "stderr",
     "output_type": "stream",
     "text": [
      "c:\\Users\\elias\\anaconda3\\Lib\\site-packages\\nashpy\\algorithms\\support_enumeration.py:260: RuntimeWarning: \n",
      "An even number of (0) equilibria was returned. This\n",
      "indicates that the game is degenerate. Consider using another algorithm\n",
      "to investigate.\n",
      "                  \n",
      "  warnings.warn(warning, RuntimeWarning)\n"
     ]
    },
    {
     "data": {
      "text/html": [
       "<div>\n",
       "<style scoped>\n",
       "    .dataframe tbody tr th:only-of-type {\n",
       "        vertical-align: middle;\n",
       "    }\n",
       "\n",
       "    .dataframe tbody tr th {\n",
       "        vertical-align: top;\n",
       "    }\n",
       "\n",
       "    .dataframe thead th {\n",
       "        text-align: right;\n",
       "    }\n",
       "</style>\n",
       "<table border=\"1\" class=\"dataframe\">\n",
       "  <thead>\n",
       "    <tr style=\"text-align: right;\">\n",
       "      <th></th>\n",
       "      <th>LL</th>\n",
       "      <th>LR</th>\n",
       "      <th>RL</th>\n",
       "      <th>RR</th>\n",
       "    </tr>\n",
       "  </thead>\n",
       "  <tbody>\n",
       "    <tr>\n",
       "      <th>L</th>\n",
       "      <td>0.0</td>\n",
       "      <td>0.7</td>\n",
       "      <td>0.3</td>\n",
       "      <td>1.0</td>\n",
       "    </tr>\n",
       "    <tr>\n",
       "      <th>R</th>\n",
       "      <td>1.0</td>\n",
       "      <td>0.7</td>\n",
       "      <td>0.8</td>\n",
       "      <td>0.5</td>\n",
       "    </tr>\n",
       "  </tbody>\n",
       "</table>\n",
       "</div>"
      ],
      "text/plain": [
       "    LL   LR   RL   RR\n",
       "L  0.0  0.7  0.3  1.0\n",
       "R  1.0  0.7  0.8  0.5"
      ]
     },
     "metadata": {},
     "output_type": "display_data"
    },
    {
     "data": {
      "text/html": [
       "<div>\n",
       "<style scoped>\n",
       "    .dataframe tbody tr th:only-of-type {\n",
       "        vertical-align: middle;\n",
       "    }\n",
       "\n",
       "    .dataframe tbody tr th {\n",
       "        vertical-align: top;\n",
       "    }\n",
       "\n",
       "    .dataframe thead th {\n",
       "        text-align: right;\n",
       "    }\n",
       "</style>\n",
       "<table border=\"1\" class=\"dataframe\">\n",
       "  <thead>\n",
       "    <tr style=\"text-align: right;\">\n",
       "      <th></th>\n",
       "      <th>LL</th>\n",
       "      <th>LR</th>\n",
       "      <th>RL</th>\n",
       "      <th>RR</th>\n",
       "    </tr>\n",
       "  </thead>\n",
       "  <tbody>\n",
       "    <tr>\n",
       "      <th>L</th>\n",
       "      <td>-0.5</td>\n",
       "      <td>-0.7</td>\n",
       "      <td>-0.8</td>\n",
       "      <td>-1.0</td>\n",
       "    </tr>\n",
       "    <tr>\n",
       "      <th>R</th>\n",
       "      <td>-1.0</td>\n",
       "      <td>-0.7</td>\n",
       "      <td>-0.8</td>\n",
       "      <td>-0.5</td>\n",
       "    </tr>\n",
       "  </tbody>\n",
       "</table>\n",
       "</div>"
      ],
      "text/plain": [
       "    LL   LR   RL   RR\n",
       "L -0.5 -0.7 -0.8 -1.0\n",
       "R -1.0 -0.7 -0.8 -0.5"
      ]
     },
     "metadata": {},
     "output_type": "display_data"
    }
   ],
   "source": [
    "U1 = [U1_A ,U1_B]\n",
    "U2 = [U2_A,U2_B]\n",
    "\n",
    "action = ['L','R']\n",
    "\n",
    "BU1, BU2 = BNE.compute_full_matrix(U1,U2,(1/2), action, action)\n",
    "\n",
    "#IESDS\n",
    "U1, U2, aa1, aa2 = IESDS.IESDS(BU1[0], BU2[0])\n",
    "\n",
    "result = BNE.compute_bne(U1,U2)\n",
    "\n",
    "print(f\"p = {1/2}: BNE {result}\")\n",
    "display(BU1[1])\n",
    "display(BU2[1])"
   ]
  },
  {
   "cell_type": "code",
   "execution_count": 67,
   "metadata": {},
   "outputs": [
    {
     "name": "stdout",
     "output_type": "stream",
     "text": [
      "Sif spiller ('L', 'R') ⇒ BNE for p ∈ [0.400, 0.600]\n"
     ]
    }
   ],
   "source": [
    "import numpy as np\n",
    "\n",
    "def find_bne_intervals(U1_types, U2_types, tol=1e-8):\n",
    "    \"\"\"\n",
    "    U1_types, U2_types: lister af 2×2 NumPy-arrays, én for hver af de 2 typer.\n",
    "    Returnerer liste af (mapping, p_low, p_high), hvor mapping=(a_-0.1, a_+0.1)\n",
    "    med 0=L,1=R, og [p_low,p_high] er det interval af p med BNE.\n",
    "    \"\"\"\n",
    "    n_types = len(U1_types)      # =2\n",
    "    nA1, nA2 = U1_types[0].shape # = (2,2)\n",
    "    prior = [1/n_types]*n_types  # = [0.5,0.5]\n",
    "    results = []\n",
    "\n",
    "    # 1) Gå igennem alle rene planer for Sif: (0,0),(0,1),(1,0),(1,1)\n",
    "    for plan in [(i,j) for i in (0,1) for j in (0,1)]:\n",
    "        # 2) Beregn Ava's interim-payoff for ren L (a1=0) og R (a1=1)\n",
    "        EU = []\n",
    "        for a1 in (0,1):\n",
    "            val = sum(prior[t] * U1_types[t][a1, plan[t]]\n",
    "                      for t in (0,1))\n",
    "            EU.append(val)\n",
    "        # 3) Ava skal være indifferent for at blande:\n",
    "        if abs(EU[0] - EU[1]) > tol:\n",
    "            continue\n",
    "\n",
    "        # 4) Best-response for Sif giver lineære uligheder i p:\n",
    "        p_low, p_high = 0.0, 1.0\n",
    "        for t in (0,1):\n",
    "            a_star = plan[t]\n",
    "            for a_alt in (0,1):\n",
    "                if a_alt == a_star: continue\n",
    "                # EU_S(a_star) >= EU_S(a_alt):\n",
    "                # p*(U2[t][0,a*]−U2[t][0,a_alt]) + (1−p)*(U2[t][1,a*]−U2[t][1,a_alt]) ≥ 0\n",
    "                α = U2_types[t][0,a_star] - U2_types[t][0,a_alt]\n",
    "                β = U2_types[t][1,a_star] - U2_types[t][1,a_alt]\n",
    "                diff = α - β\n",
    "                if abs(diff) < tol:\n",
    "                    if β < -tol:\n",
    "                        p_low, p_high = 1.0, 0.0\n",
    "                else:\n",
    "                    thresh = -β/diff\n",
    "                    if diff > 0:\n",
    "                        p_low = max(p_low, thresh)\n",
    "                    else:\n",
    "                        p_high = min(p_high, thresh)\n",
    "            if p_low > p_high:\n",
    "                break\n",
    "\n",
    "        if p_low <= p_high:\n",
    "            results.append((plan, max(0,p_low), min(1,p_high)))\n",
    "\n",
    "    return results\n",
    "\n",
    "# --- Eksempel på jeres spil ---\n",
    "theta1, theta2 = -0.1, +0.1\n",
    "U1_A = np.array([[(1/2) + theta1, 1], \n",
    "                   [1, (1/2) - theta1]])\n",
    "U1_B = np.array([[-(1/2) + theta2, 1], \n",
    "                   [1, (1/2) - theta2]])\n",
    "\n",
    "\n",
    "U2_A = np.array([[-(1/2) - theta1, -1], \n",
    "                   [-1, -(1/2) + theta1]])\n",
    "U2_B = np.array([[-(1/2) - theta2, -1], \n",
    "                   [-1, -(1/2) + theta2]])\n",
    "\n",
    "bne = find_bne_intervals([U1_A, U1_B], [U2_A, U2_B])\n",
    "for plan, lo, hi in bne:\n",
    "    plan_str = tuple('L' if x==0 else 'R' for x in plan)\n",
    "    print(f\"Sif spiller {plan_str} ⇒ BNE for p ∈ [{lo:.3f}, {hi:.3f}]\")\n",
    "\n",
    "# Forventet output:\n",
    "# Sif spiller ('L','R') ⇒ BNE for p ∈ [0.400, 0.600]\n"
   ]
  }
 ],
 "metadata": {
  "kernelspec": {
   "display_name": "base",
   "language": "python",
   "name": "python3"
  },
  "language_info": {
   "codemirror_mode": {
    "name": "ipython",
    "version": 3
   },
   "file_extension": ".py",
   "mimetype": "text/x-python",
   "name": "python",
   "nbconvert_exporter": "python",
   "pygments_lexer": "ipython3",
   "version": "3.11.7"
  }
 },
 "nbformat": 4,
 "nbformat_minor": 2
}

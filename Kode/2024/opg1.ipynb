{
 "cells": [
  {
   "cell_type": "code",
   "execution_count": 13,
   "metadata": {},
   "outputs": [],
   "source": [
    "import os, sys\n",
    "sys.path.insert(0, os.path.abspath('..'))\n",
    "import numpy as np\n",
    "import nashpy as nash\n",
    "from IPython.display import display\n",
    "import support_enumeration as se\n",
    "import BNE as BNE\n",
    "import IESDS as IESDS"
   ]
  },
  {
   "cell_type": "markdown",
   "metadata": {},
   "source": [
    "### 1.1"
   ]
  },
  {
   "cell_type": "markdown",
   "metadata": {},
   "source": [
    "### 1.2"
   ]
  },
  {
   "cell_type": "code",
   "execution_count": 14,
   "metadata": {},
   "outputs": [
    {
     "name": "stdout",
     "output_type": "stream",
     "text": [
      "[(array([0.4, 0.6]), array([0.4, 0.6]))]\n",
      "[(array([0.5, 0.5]), array([0.5, 0.5]))]\n",
      "[(array([0.6, 0.4]), array([0.6, 0.4]))]\n"
     ]
    }
   ],
   "source": [
    "for theta in [-1/10, 0, 1/10]:\n",
    "    U1 = np.array([[(1/2) + theta, 1], \n",
    "                   [1, (1/2) - theta]])\n",
    "    U2 = np.array([[-(1/2) - theta, -1], \n",
    "                   [-1, -(1/2) + theta]])\n",
    "\n",
    "    NE = se.msne(U1, U2)\n",
    "\n",
    "    print(NE)"
   ]
  },
  {
   "cell_type": "markdown",
   "metadata": {},
   "source": [
    "### 1.3"
   ]
  },
  {
   "cell_type": "markdown",
   "metadata": {},
   "source": [
    "Svaret i paint."
   ]
  },
  {
   "cell_type": "markdown",
   "metadata": {},
   "source": [
    "### 1.4"
   ]
  },
  {
   "cell_type": "code",
   "execution_count": 15,
   "metadata": {},
   "outputs": [],
   "source": [
    "theta1 = -1/10\n",
    "theta2 = 1/10\n",
    "\n",
    "U1_A = np.array([[(1/2) + theta1, 1], \n",
    "                   [1, (1/2) - theta1]])\n",
    "U1_B = np.array([[-(1/2) - theta2, -1], \n",
    "                   [-1, -(1/2) + theta2]])\n",
    "\n",
    "\n",
    "U2_A = np.array([[(1/2) + theta1, 1], \n",
    "                   [1, (1/2) - theta1]])\n",
    "U2_B = np.array([[-(1/2) - theta2, -1], \n",
    "                   [-1, -(1/2) + theta2]])\n"
   ]
  },
  {
   "cell_type": "code",
   "execution_count": 16,
   "metadata": {},
   "outputs": [
    {
     "name": "stdout",
     "output_type": "stream",
     "text": [
      "p = 0.5: BNE [(array([1., 0.]), array([0., 0., 1., 0.])), (array([0., 1.]), array([0., 1., 0., 0.])), (array([0.6, 0.4]), array([0. , 0. , 0.2, 0.8]))]\n"
     ]
    },
    {
     "data": {
      "text/html": [
       "<div>\n",
       "<style scoped>\n",
       "    .dataframe tbody tr th:only-of-type {\n",
       "        vertical-align: middle;\n",
       "    }\n",
       "\n",
       "    .dataframe tbody tr th {\n",
       "        vertical-align: top;\n",
       "    }\n",
       "\n",
       "    .dataframe thead th {\n",
       "        text-align: right;\n",
       "    }\n",
       "</style>\n",
       "<table border=\"1\" class=\"dataframe\">\n",
       "  <thead>\n",
       "    <tr style=\"text-align: right;\">\n",
       "      <th></th>\n",
       "      <th>LL</th>\n",
       "      <th>LR</th>\n",
       "      <th>RL</th>\n",
       "      <th>RR</th>\n",
       "    </tr>\n",
       "  </thead>\n",
       "  <tbody>\n",
       "    <tr>\n",
       "      <th>L</th>\n",
       "      <td>-0.1</td>\n",
       "      <td>-0.3</td>\n",
       "      <td>0.2</td>\n",
       "      <td>0.0</td>\n",
       "    </tr>\n",
       "    <tr>\n",
       "      <th>R</th>\n",
       "      <td>0.0</td>\n",
       "      <td>0.3</td>\n",
       "      <td>-0.2</td>\n",
       "      <td>0.1</td>\n",
       "    </tr>\n",
       "  </tbody>\n",
       "</table>\n",
       "</div>"
      ],
      "text/plain": [
       "    LL   LR   RL   RR\n",
       "L -0.1 -0.3  0.2  0.0\n",
       "R  0.0  0.3 -0.2  0.1"
      ]
     },
     "metadata": {},
     "output_type": "display_data"
    },
    {
     "data": {
      "text/html": [
       "<div>\n",
       "<style scoped>\n",
       "    .dataframe tbody tr th:only-of-type {\n",
       "        vertical-align: middle;\n",
       "    }\n",
       "\n",
       "    .dataframe tbody tr th {\n",
       "        vertical-align: top;\n",
       "    }\n",
       "\n",
       "    .dataframe thead th {\n",
       "        text-align: right;\n",
       "    }\n",
       "</style>\n",
       "<table border=\"1\" class=\"dataframe\">\n",
       "  <thead>\n",
       "    <tr style=\"text-align: right;\">\n",
       "      <th></th>\n",
       "      <th>LL</th>\n",
       "      <th>LR</th>\n",
       "      <th>RL</th>\n",
       "      <th>RR</th>\n",
       "    </tr>\n",
       "  </thead>\n",
       "  <tbody>\n",
       "    <tr>\n",
       "      <th>L</th>\n",
       "      <td>-0.1</td>\n",
       "      <td>-0.3</td>\n",
       "      <td>0.2</td>\n",
       "      <td>0.0</td>\n",
       "    </tr>\n",
       "    <tr>\n",
       "      <th>R</th>\n",
       "      <td>0.0</td>\n",
       "      <td>0.3</td>\n",
       "      <td>-0.2</td>\n",
       "      <td>0.1</td>\n",
       "    </tr>\n",
       "  </tbody>\n",
       "</table>\n",
       "</div>"
      ],
      "text/plain": [
       "    LL   LR   RL   RR\n",
       "L -0.1 -0.3  0.2  0.0\n",
       "R  0.0  0.3 -0.2  0.1"
      ]
     },
     "metadata": {},
     "output_type": "display_data"
    }
   ],
   "source": [
    "U1 = [U1_A ,U1_B]\n",
    "U2 = [U2_A,U2_B]\n",
    "\n",
    "action = ['L','R']\n",
    "\n",
    "BU1, BU2 = BNE.compute_full_matrix(U1,U2,(1/2), action, action)\n",
    "\n",
    "#IESDS\n",
    "# U1, U2, aa1, aa2 = IESDS.IESDS(BU1[0], BU2[0])\n",
    "\n",
    "result = BNE.compute_bne(BU1[0],BU2[0])\n",
    "\n",
    "print(f\"p = {1/2}: BNE {result}\")\n",
    "display(BU1[1])\n",
    "display(BU2[1])"
   ]
  },
  {
   "cell_type": "code",
   "execution_count": 17,
   "metadata": {},
   "outputs": [
    {
     "name": "stdout",
     "output_type": "stream",
     "text": [
      "a=0 is strictly dominated by a=3\n",
      "No further strategies to delete after 1 iterations\n",
      "p = 0.5: BNE [(array([1., 0.]), array([0., 1., 0.])), (array([0., 1.]), array([1., 0., 0.])), (array([0.6, 0.4]), array([0. , 0.2, 0.8]))]\n"
     ]
    },
    {
     "data": {
      "text/html": [
       "<div>\n",
       "<style scoped>\n",
       "    .dataframe tbody tr th:only-of-type {\n",
       "        vertical-align: middle;\n",
       "    }\n",
       "\n",
       "    .dataframe tbody tr th {\n",
       "        vertical-align: top;\n",
       "    }\n",
       "\n",
       "    .dataframe thead th {\n",
       "        text-align: right;\n",
       "    }\n",
       "</style>\n",
       "<table border=\"1\" class=\"dataframe\">\n",
       "  <thead>\n",
       "    <tr style=\"text-align: right;\">\n",
       "      <th></th>\n",
       "      <th>LL</th>\n",
       "      <th>LR</th>\n",
       "      <th>RL</th>\n",
       "      <th>RR</th>\n",
       "    </tr>\n",
       "  </thead>\n",
       "  <tbody>\n",
       "    <tr>\n",
       "      <th>L</th>\n",
       "      <td>-0.1</td>\n",
       "      <td>-0.3</td>\n",
       "      <td>0.2</td>\n",
       "      <td>0.0</td>\n",
       "    </tr>\n",
       "    <tr>\n",
       "      <th>R</th>\n",
       "      <td>0.0</td>\n",
       "      <td>0.3</td>\n",
       "      <td>-0.2</td>\n",
       "      <td>0.1</td>\n",
       "    </tr>\n",
       "  </tbody>\n",
       "</table>\n",
       "</div>"
      ],
      "text/plain": [
       "    LL   LR   RL   RR\n",
       "L -0.1 -0.3  0.2  0.0\n",
       "R  0.0  0.3 -0.2  0.1"
      ]
     },
     "metadata": {},
     "output_type": "display_data"
    },
    {
     "data": {
      "text/html": [
       "<div>\n",
       "<style scoped>\n",
       "    .dataframe tbody tr th:only-of-type {\n",
       "        vertical-align: middle;\n",
       "    }\n",
       "\n",
       "    .dataframe tbody tr th {\n",
       "        vertical-align: top;\n",
       "    }\n",
       "\n",
       "    .dataframe thead th {\n",
       "        text-align: right;\n",
       "    }\n",
       "</style>\n",
       "<table border=\"1\" class=\"dataframe\">\n",
       "  <thead>\n",
       "    <tr style=\"text-align: right;\">\n",
       "      <th></th>\n",
       "      <th>LL</th>\n",
       "      <th>LR</th>\n",
       "      <th>RL</th>\n",
       "      <th>RR</th>\n",
       "    </tr>\n",
       "  </thead>\n",
       "  <tbody>\n",
       "    <tr>\n",
       "      <th>L</th>\n",
       "      <td>-0.1</td>\n",
       "      <td>-0.3</td>\n",
       "      <td>0.2</td>\n",
       "      <td>0.0</td>\n",
       "    </tr>\n",
       "    <tr>\n",
       "      <th>R</th>\n",
       "      <td>0.0</td>\n",
       "      <td>0.3</td>\n",
       "      <td>-0.2</td>\n",
       "      <td>0.1</td>\n",
       "    </tr>\n",
       "  </tbody>\n",
       "</table>\n",
       "</div>"
      ],
      "text/plain": [
       "    LL   LR   RL   RR\n",
       "L -0.1 -0.3  0.2  0.0\n",
       "R  0.0  0.3 -0.2  0.1"
      ]
     },
     "metadata": {},
     "output_type": "display_data"
    }
   ],
   "source": [
    "U1 = [U1_A ,U1_B]\n",
    "U2 = [U2_A,U2_B]\n",
    "\n",
    "action = ['L','R']\n",
    "\n",
    "BU1, BU2 = BNE.compute_full_matrix(U1,U2,(1/2), action, action)\n",
    "\n",
    "#IESDS\n",
    "U1, U2, aa1, aa2 = IESDS.IESDS(BU1[0], BU2[0])\n",
    "\n",
    "result = BNE.compute_bne(U1,U2)\n",
    "\n",
    "print(f\"p = {1/2}: BNE {result}\")\n",
    "display(BU1[1])\n",
    "display(BU2[1])"
   ]
  }
 ],
 "metadata": {
  "kernelspec": {
   "display_name": "base",
   "language": "python",
   "name": "python3"
  },
  "language_info": {
   "codemirror_mode": {
    "name": "ipython",
    "version": 3
   },
   "file_extension": ".py",
   "mimetype": "text/x-python",
   "name": "python",
   "nbconvert_exporter": "python",
   "pygments_lexer": "ipython3",
   "version": "3.11.7"
  }
 },
 "nbformat": 4,
 "nbformat_minor": 2
}

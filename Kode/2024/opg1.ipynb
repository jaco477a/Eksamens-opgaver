{
 "cells": [
  {
   "cell_type": "code",
   "execution_count": 19,
   "metadata": {},
   "outputs": [],
   "source": [
    "import os, sys\n",
    "sys.path.insert(0, os.path.abspath('..'))\n",
    "import numpy as np\n",
    "import nashpy as nash\n",
    "from IPython.display import display\n",
    "import support_enumeration as se\n",
    "import BNE as BNE\n",
    "import IESDS as IESDS"
   ]
  },
  {
   "cell_type": "markdown",
   "metadata": {},
   "source": [
    "### 1.1"
   ]
  },
  {
   "cell_type": "code",
   "execution_count": 20,
   "metadata": {},
   "outputs": [
    {
     "name": "stdout",
     "output_type": "stream",
     "text": [
      "[(array([1., 0.]), array([1., 0.]))]\n",
      "[(array([1., 0.]), array([1., 0.])), (array([1., 0.]), array([0., 1.])), (array([0., 1.]), array([1., 0.]))]\n",
      "[(array([1., 0.]), array([0., 1.])), (array([0., 1.]), array([1., 0.])), (array([0., 1.]), array([0., 1.]))]\n"
     ]
    }
   ],
   "source": [
    "for x in [1, 4, 10]:\n",
    "    U1 = np.array([[4 - x, 10 - x], [0, 0]])\n",
    "    U2 = np.array([[4 - x, 0], [10 - x, 0]])\n",
    "\n",
    "    NE = se.msne(U1, U2)\n",
    "\n",
    "    print(NE)"
   ]
  },
  {
   "cell_type": "markdown",
   "metadata": {},
   "source": [
    "### 1.2"
   ]
  },
  {
   "cell_type": "code",
   "execution_count": 21,
   "metadata": {},
   "outputs": [
    {
     "name": "stdout",
     "output_type": "stream",
     "text": [
      "[(array([1., 0.]), array([0., 1.])), (array([0., 1.]), array([1., 0.]))]\n",
      "[(array([1., 0.]), array([0., 1.])), (array([0., 1.]), array([1., 0.])), (array([0., 1.]), array([0., 1.]))]\n",
      "[(array([0., 1.]), array([1., 0.])), (array([0., 1.]), array([0., 1.]))]\n"
     ]
    },
    {
     "name": "stderr",
     "output_type": "stream",
     "text": [
      "c:\\Users\\elias\\anaconda3\\Lib\\site-packages\\nashpy\\algorithms\\support_enumeration.py:260: RuntimeWarning: \n",
      "An even number of (2) equilibria was returned. This\n",
      "indicates that the game is degenerate. Consider using another algorithm\n",
      "to investigate.\n",
      "                  \n",
      "  warnings.warn(warning, RuntimeWarning)\n"
     ]
    }
   ],
   "source": [
    "for x in [1, 4, 100]:\n",
    "    U1 = np.array([[4 - x, 4 - x], [10 - x, 0]])\n",
    "    U2 = np.array([[0, 10 - x], [0, 0]])\n",
    "\n",
    "    NE = se.msne(U1, U2)\n",
    "\n",
    "    print(NE)"
   ]
  },
  {
   "cell_type": "markdown",
   "metadata": {},
   "source": [
    "### 1.3"
   ]
  },
  {
   "cell_type": "markdown",
   "metadata": {},
   "source": [
    "Lavet i lyx"
   ]
  },
  {
   "cell_type": "markdown",
   "metadata": {},
   "source": [
    "### 1.4"
   ]
  },
  {
   "cell_type": "code",
   "execution_count": 22,
   "metadata": {},
   "outputs": [],
   "source": [
    "UA_5 = np.array([[-1, 5], \n",
    "                [0, 0]])\n",
    "# U2A = np.array([[3, 4], \n",
    "#                 [0, -1]])\n",
    "\n",
    "\n",
    "UB_3 = np.array([[1, 0], \n",
    "                [7, 0]])\n",
    "UB_7 = np.array([[-3, 0], \n",
    "                [3, 0]])\n"
   ]
  },
  {
   "cell_type": "markdown",
   "metadata": {},
   "source": [
    "### (a)"
   ]
  },
  {
   "cell_type": "code",
   "execution_count": 23,
   "metadata": {},
   "outputs": [
    {
     "name": "stdout",
     "output_type": "stream",
     "text": [
      "[(array([0., 1.]), array([1., 0.]))]\n",
      "[(array([1., 0.]), array([0., 1.])), (array([0., 1.]), array([1., 0.])), (array([0.5, 0.5]), array([0.83333333, 0.16666667]))]\n"
     ]
    }
   ],
   "source": [
    "NE1 = se.msne(UA_5, UB_3)\n",
    "\n",
    "print(NE1)\n",
    "\n",
    "NE2 = se.msne(UA_5, UB_7)\n",
    "print(NE2)\n"
   ]
  },
  {
   "cell_type": "markdown",
   "metadata": {},
   "source": [
    "### (b)"
   ]
  },
  {
   "cell_type": "code",
   "execution_count": 24,
   "metadata": {},
   "outputs": [
    {
     "name": "stdout",
     "output_type": "stream",
     "text": [
      "a=2 is strictly dominated by a=0\n",
      "a=3 is strictly dominated by a=1\n",
      "No further strategies to delete after 1 iterations\n",
      "p = 0.5: BNE [(array([1., 0.]), array([0., 1.])), (array([0., 1.]), array([1., 0.])), (array([0.5, 0.5]), array([0.66666667, 0.33333333]))]\n"
     ]
    },
    {
     "data": {
      "text/html": [
       "<div>\n",
       "<style scoped>\n",
       "    .dataframe tbody tr th:only-of-type {\n",
       "        vertical-align: middle;\n",
       "    }\n",
       "\n",
       "    .dataframe tbody tr th {\n",
       "        vertical-align: top;\n",
       "    }\n",
       "\n",
       "    .dataframe thead th {\n",
       "        text-align: right;\n",
       "    }\n",
       "</style>\n",
       "<table border=\"1\" class=\"dataframe\">\n",
       "  <thead>\n",
       "    <tr style=\"text-align: right;\">\n",
       "      <th></th>\n",
       "      <th>II</th>\n",
       "      <th>IU</th>\n",
       "      <th>UI</th>\n",
       "      <th>UU</th>\n",
       "    </tr>\n",
       "  </thead>\n",
       "  <tbody>\n",
       "    <tr>\n",
       "      <th>I</th>\n",
       "      <td>-1.0</td>\n",
       "      <td>2.0</td>\n",
       "      <td>2.0</td>\n",
       "      <td>5.0</td>\n",
       "    </tr>\n",
       "    <tr>\n",
       "      <th>U</th>\n",
       "      <td>0.0</td>\n",
       "      <td>0.0</td>\n",
       "      <td>0.0</td>\n",
       "      <td>0.0</td>\n",
       "    </tr>\n",
       "  </tbody>\n",
       "</table>\n",
       "</div>"
      ],
      "text/plain": [
       "    II   IU   UI   UU\n",
       "I -1.0  2.0  2.0  5.0\n",
       "U  0.0  0.0  0.0  0.0"
      ]
     },
     "metadata": {},
     "output_type": "display_data"
    },
    {
     "data": {
      "text/html": [
       "<div>\n",
       "<style scoped>\n",
       "    .dataframe tbody tr th:only-of-type {\n",
       "        vertical-align: middle;\n",
       "    }\n",
       "\n",
       "    .dataframe tbody tr th {\n",
       "        vertical-align: top;\n",
       "    }\n",
       "\n",
       "    .dataframe thead th {\n",
       "        text-align: right;\n",
       "    }\n",
       "</style>\n",
       "<table border=\"1\" class=\"dataframe\">\n",
       "  <thead>\n",
       "    <tr style=\"text-align: right;\">\n",
       "      <th></th>\n",
       "      <th>II</th>\n",
       "      <th>IU</th>\n",
       "      <th>UI</th>\n",
       "      <th>UU</th>\n",
       "    </tr>\n",
       "  </thead>\n",
       "  <tbody>\n",
       "    <tr>\n",
       "      <th>I</th>\n",
       "      <td>-1.0</td>\n",
       "      <td>0.5</td>\n",
       "      <td>-1.5</td>\n",
       "      <td>0.0</td>\n",
       "    </tr>\n",
       "    <tr>\n",
       "      <th>U</th>\n",
       "      <td>5.0</td>\n",
       "      <td>3.5</td>\n",
       "      <td>1.5</td>\n",
       "      <td>0.0</td>\n",
       "    </tr>\n",
       "  </tbody>\n",
       "</table>\n",
       "</div>"
      ],
      "text/plain": [
       "    II   IU   UI   UU\n",
       "I -1.0  0.5 -1.5  0.0\n",
       "U  5.0  3.5  1.5  0.0"
      ]
     },
     "metadata": {},
     "output_type": "display_data"
    }
   ],
   "source": [
    "U1 = [UA_5 ,UA_5]\n",
    "U2 = [UB_3,UB_7]\n",
    "\n",
    "action = ['I','U']\n",
    "\n",
    "BU1, BU2 = BNE.compute_full_matrix(U1,U2,(1/2), action, action)\n",
    "\n",
    "#IESDS\n",
    "U1, U2, aa1, aa2 = IESDS.IESDS(BU1[0], BU2[0])\n",
    "\n",
    "result = BNE.compute_bne(U1,U2)\n",
    "\n",
    "print(f\"p = {1/2}: BNE {result}\")\n",
    "display(BU1[1])\n",
    "display(BU2[1])"
   ]
  }
 ],
 "metadata": {
  "kernelspec": {
   "display_name": "base",
   "language": "python",
   "name": "python3"
  },
  "language_info": {
   "codemirror_mode": {
    "name": "ipython",
    "version": 3
   },
   "file_extension": ".py",
   "mimetype": "text/x-python",
   "name": "python",
   "nbconvert_exporter": "python",
   "pygments_lexer": "ipython3",
   "version": "3.11.7"
  }
 },
 "nbformat": 4,
 "nbformat_minor": 2
}

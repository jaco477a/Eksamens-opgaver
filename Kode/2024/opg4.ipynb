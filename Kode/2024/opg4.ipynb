{
 "cells": [
  {
   "cell_type": "code",
   "execution_count": 47,
   "metadata": {},
   "outputs": [],
   "source": [
    "import os, sys\n",
    "sys.path.insert(0, os.path.abspath('..'))\n",
    "import copy \n",
    "import numpy as np \n",
    "import pandas as pd \n",
    "import seaborn as sns\n",
    "import matplotlib.pyplot as plt\n",
    "from scipy.optimize import linprog\n",
    "from scipy.optimize import minimize \n",
    "from scipy.optimize import minimize_scalar\n",
    "import QUAD as QUAD\n",
    "import nashpy as nash\n",
    "from scipy.stats import expon\n",
    "from scipy.integrate import quad\n",
    "from statsmodels.distributions.empirical_distribution import ECDF\n",
    "from scipy import interpolate \n"
   ]
  },
  {
   "cell_type": "markdown",
   "metadata": {},
   "source": [
    "## 4"
   ]
  },
  {
   "cell_type": "code",
   "execution_count": 48,
   "metadata": {},
   "outputs": [],
   "source": [
    "p = pd.read_csv('auction_prices.csv') # read data\n",
    "p = p['price'].values # convert to numpy"
   ]
  },
  {
   "cell_type": "code",
   "execution_count": 49,
   "metadata": {},
   "outputs": [
    {
     "data": {
      "text/plain": [
       "<matplotlib.legend.Legend at 0x17dd84e90>"
      ]
     },
     "execution_count": 49,
     "metadata": {},
     "output_type": "execute_result"
    },
    {
     "data": {
      "image/png": "[encoded data removed]",
      "text/plain": [
       "<Figure size 640x480 with 1 Axes>"
      ]
     },
     "metadata": {},
     "output_type": "display_data"
    }
   ],
   "source": [
    "T = 10000\n",
    "\n",
    "#copy p\n",
    "p1 = p.copy()\n",
    "\n",
    "#seed\n",
    "np.random.seed(1337)\n",
    "\n",
    "samples = np.random.beta(4.305,10, size=(5,T))\n",
    "samples.sort(axis=0)\n",
    "win = samples[-2,:] # second highest bid\n",
    "plt.hist(win, bins=50, density=True,alpha=0.5)\n",
    "plt.hist(p1, bins=50, density=True, alpha=0.5,label='observed prices')\n",
    "\n",
    "plt.legend(['Auction prices', 'Exponential samples'])\n",
    "\n"
   ]
  },
  {
   "cell_type": "code",
   "execution_count": 50,
   "metadata": {},
   "outputs": [],
   "source": [
    "n = 5\n",
    "R = 10000\n",
    "\n",
    "def predict_distribution(k): \n",
    "    np.random.seed(1337) \n",
    "    v = np.random.beta(k,10, size=(5,T))\n",
    "    w = np.sort(v, axis=0)\n",
    "    w = w[-2, :]\n",
    "    return w"
   ]
  },
  {
   "cell_type": "code",
   "execution_count": 51,
   "metadata": {},
   "outputs": [],
   "source": [
    "# 1. set up the grid on which we will be evaluating the ECDF functions\n",
    "plow = 0.0\n",
    "phigh = 5.0\n",
    "xx = np.linspace(plow, phigh, 50)\n",
    "\n",
    "f_data = ECDF(p1)\n",
    "\n",
    "def Q(k):\n",
    "    w = predict_distribution(k) \n",
    "    f_sim = ECDF(w) # f_sim is our lambda function \n",
    "    dist = (f_data(xx) - f_sim(xx))**2 # pointwise \"distance\" (in squared error)\n",
    "    L2 = np.mean(dist) # mean is over the grid points (of which there are G)\n",
    "    return L2"
   ]
  },
  {
   "cell_type": "code",
   "execution_count": 52,
   "metadata": {},
   "outputs": [
    {
     "data": {
      "text/plain": [
       "       message: Optimization terminated successfully.\n",
       "       success: True\n",
       "        status: 0\n",
       "           fun: 1.3795999999999959e-06\n",
       "             x: [ 4.305e+00]\n",
       "           nit: 19\n",
       "          nfev: 46\n",
       " final_simplex: (array([[ 4.305e+00],\n",
       "                       [ 4.305e+00]]), array([ 1.380e-06,  1.380e-06]))"
      ]
     },
     "execution_count": 52,
     "metadata": {},
     "output_type": "execute_result"
    }
   ],
   "source": [
    "minimize(Q, np.array([4]), method='Nelder-Mead', tol=1e-6)"
   ]
  },
  {
   "cell_type": "markdown",
   "metadata": {},
   "source": [
    "### 4.2"
   ]
  },
  {
   "cell_type": "code",
   "execution_count": 53,
   "metadata": {},
   "outputs": [],
   "source": [
    "def b_star(value):\n",
    "    v = np.random.beta(4.305,10, size=(5,T)).flatten()\n",
    "    I = v <= value \n",
    "    v_sim = np.copy(v[I])\n",
    "    drop_this_many = np.mod(v_sim.size, 5-1)\n",
    "    if drop_this_many>0:\n",
    "        v_sim = v_sim[:-drop_this_many]\n",
    "    R_used = int(v_sim.size / (5-1))\n",
    "    v_sim = np.reshape(v_sim, (5-1,R_used))\n",
    "    v_sim = np.sort(v_sim, 0)\n",
    "    v_largest = v_sim[-1, :]\n",
    "    Ev = np.mean(v_largest)\n",
    "    return Ev\n",
    "\n"
   ]
  },
  {
   "cell_type": "code",
   "execution_count": 54,
   "metadata": {},
   "outputs": [
    {
     "name": "stdout",
     "output_type": "stream",
     "text": [
      "For v=0.2, the optimal bid is 0.183\n",
      "For v=0.5, the optimal bid is 0.391\n",
      "For v=0.8, the optimal bid is 0.428\n"
     ]
    }
   ],
   "source": [
    "for v in [0.2,0.5,0.8]:\n",
    "    b = b_star(v)\n",
    "    print(f'For v={v}, the optimal bid is {b:.3f}')"
   ]
  },
  {
   "cell_type": "markdown",
   "metadata": {},
   "source": [
    "### 4.3"
   ]
  },
  {
   "cell_type": "code",
   "execution_count": 55,
   "metadata": {},
   "outputs": [],
   "source": [
    "def b_star1(value):\n",
    "    v = np.random.beta(10,2, size=(5,T)).flatten()\n",
    "    I = v <= value \n",
    "    v_sim = np.copy(v[I])\n",
    "    drop_this_many = np.mod(v_sim.size, 5-1)\n",
    "    if drop_this_many>0:\n",
    "        v_sim = v_sim[:-drop_this_many]\n",
    "    R_used = int(v_sim.size / (5-1))\n",
    "    v_sim = np.reshape(v_sim, (5-1,R_used))\n",
    "    v_sim = np.sort(v_sim, 0)\n",
    "    v_largest = v_sim[-1, :]\n",
    "    Ev = np.mean(v_largest)\n",
    "    return Ev\n",
    "\n",
    "def b_star2(value):\n",
    "    v = np.random.beta(2,10, size=(5,T)).flatten()\n",
    "    I = v <= value \n",
    "    v_sim = np.copy(v[I])\n",
    "    drop_this_many = np.mod(v_sim.size, 5-1)\n",
    "    if drop_this_many>0:\n",
    "        v_sim = v_sim[:-drop_this_many]\n",
    "    R_used = int(v_sim.size / (5-1))\n",
    "    v_sim = np.reshape(v_sim, (5-1,R_used))\n",
    "    v_sim = np.sort(v_sim, 0)\n",
    "    v_largest = v_sim[-1, :]\n",
    "    Ev = np.mean(v_largest)\n",
    "    return Ev"
   ]
  },
  {
   "cell_type": "code",
   "execution_count": 56,
   "metadata": {},
   "outputs": [
    {
     "name": "stderr",
     "output_type": "stream",
     "text": [
      "/opt/anaconda3/lib/python3.11/site-packages/numpy/core/fromnumeric.py:3504: RuntimeWarning: Mean of empty slice.\n",
      "  return _methods._mean(a, axis=axis, dtype=dtype,\n",
      "/opt/anaconda3/lib/python3.11/site-packages/numpy/core/_methods.py:129: RuntimeWarning: invalid value encountered in scalar divide\n",
      "  ret = ret.dtype.type(ret / rcount)\n"
     ]
    },
    {
     "data": {
      "text/plain": [
       "<matplotlib.legend.Legend at 0x17d98c2d0>"
      ]
     },
     "execution_count": 56,
     "metadata": {},
     "output_type": "execute_result"
    },
    {
     "data": {
      "image/png": "[encoded data removed]",
      "text/plain": [
       "<Figure size 640x480 with 1 Axes>"
      ]
     },
     "metadata": {},
     "output_type": "display_data"
    }
   ],
   "source": [
    "v_grid = np.linspace(0.0, 5.0, 100)\n",
    "\n",
    "Ev1 = np.empty_like(v_grid)\n",
    "Ev2 = np.empty_like(v_grid)\n",
    "\n",
    "for i, v in enumerate(v_grid):\n",
    "    Ev1[i] = b_star1(v)\n",
    "    Ev2[i] = b_star2(v)\n",
    "\n",
    "b_star1_num = interpolate.interp1d(v_grid, Ev1, fill_value='extrapolate')\n",
    "b_star2_num = interpolate.interp1d(v_grid, Ev2, fill_value='extrapolate')\n",
    "\n",
    "plt.plot(v_grid, b_star1_num(v_grid), label='Beta(10,2)')\n",
    "plt.plot(v_grid, b_star2_num(v_grid), label='Beta(2,10)')\n",
    "#45 graders linje\n",
    "plt.plot(v_grid, v_grid, '--', label='y=x', color='black')\n",
    "plt.xlabel('Value')\n",
    "plt.ylabel('Optimal bid')\n",
    "plt.xlim(0,1)\n",
    "plt.ylim(0,1)\n",
    "plt.legend()\n"
   ]
  },
  {
   "cell_type": "code",
   "execution_count": 57,
   "metadata": {},
   "outputs": [
    {
     "data": {
      "image/png": "[encoded data removed]",
      "text/plain": [
       "<Figure size 640x480 with 1 Axes>"
      ]
     },
     "metadata": {},
     "output_type": "display_data"
    }
   ],
   "source": [
    "beta1 = np.random.beta(10,2, size=(5,10000)).flatten()\n",
    "beta2 = np.random.beta(2,10, size=(5,10000)).flatten()\n",
    "\n",
    "plt.hist(beta1, bins=50, density=True,alpha=0.5, label='Beta(10,2)')\n",
    "plt.hist(beta2, bins=50, density=True, alpha=0.5, label='Beta(2,10)')\n",
    "plt.legend()\n",
    "plt.show()\n"
   ]
  },
  {
   "cell_type": "markdown",
   "metadata": {},
   "source": [
    "### 4.4"
   ]
  },
  {
   "cell_type": "code",
   "execution_count": 58,
   "metadata": {},
   "outputs": [
    {
     "data": {
      "text/html": [
       "<div>\n",
       "<style scoped>\n",
       "    .dataframe tbody tr th:only-of-type {\n",
       "        vertical-align: middle;\n",
       "    }\n",
       "\n",
       "    .dataframe tbody tr th {\n",
       "        vertical-align: top;\n",
       "    }\n",
       "\n",
       "    .dataframe thead th {\n",
       "        text-align: right;\n",
       "    }\n",
       "</style>\n",
       "<table border=\"1\" class=\"dataframe\">\n",
       "  <thead>\n",
       "    <tr style=\"text-align: right;\">\n",
       "      <th></th>\n",
       "      <th>n</th>\n",
       "      <th>ev1</th>\n",
       "      <th>ev2</th>\n",
       "    </tr>\n",
       "  </thead>\n",
       "  <tbody>\n",
       "    <tr>\n",
       "      <th>0</th>\n",
       "      <td>2</td>\n",
       "      <td>0.108961</td>\n",
       "      <td>0.776497</td>\n",
       "    </tr>\n",
       "    <tr>\n",
       "      <th>1</th>\n",
       "      <td>3</td>\n",
       "      <td>0.157174</td>\n",
       "      <td>0.843339</td>\n",
       "    </tr>\n",
       "    <tr>\n",
       "      <th>2</th>\n",
       "      <td>4</td>\n",
       "      <td>0.188128</td>\n",
       "      <td>0.873505</td>\n",
       "    </tr>\n",
       "    <tr>\n",
       "      <th>3</th>\n",
       "      <td>5</td>\n",
       "      <td>0.209314</td>\n",
       "      <td>0.892374</td>\n",
       "    </tr>\n",
       "    <tr>\n",
       "      <th>4</th>\n",
       "      <td>6</td>\n",
       "      <td>0.227437</td>\n",
       "      <td>0.905003</td>\n",
       "    </tr>\n",
       "    <tr>\n",
       "      <th>5</th>\n",
       "      <td>7</td>\n",
       "      <td>0.241576</td>\n",
       "      <td>0.913727</td>\n",
       "    </tr>\n",
       "    <tr>\n",
       "      <th>6</th>\n",
       "      <td>8</td>\n",
       "      <td>0.253301</td>\n",
       "      <td>0.921024</td>\n",
       "    </tr>\n",
       "    <tr>\n",
       "      <th>7</th>\n",
       "      <td>9</td>\n",
       "      <td>0.264254</td>\n",
       "      <td>0.925529</td>\n",
       "    </tr>\n",
       "    <tr>\n",
       "      <th>8</th>\n",
       "      <td>10</td>\n",
       "      <td>0.272889</td>\n",
       "      <td>0.930438</td>\n",
       "    </tr>\n",
       "  </tbody>\n",
       "</table>\n",
       "</div>"
      ],
      "text/plain": [
       "    n       ev1       ev2\n",
       "0   2  0.108961  0.776497\n",
       "1   3  0.157174  0.843339\n",
       "2   4  0.188128  0.873505\n",
       "3   5  0.209314  0.892374\n",
       "4   6  0.227437  0.905003\n",
       "5   7  0.241576  0.913727\n",
       "6   8  0.253301  0.921024\n",
       "7   9  0.264254  0.925529\n",
       "8  10  0.272889  0.930438"
      ]
     },
     "metadata": {},
     "output_type": "display_data"
    }
   ],
   "source": [
    "ev1 = []\n",
    "ev2 = []\n",
    "\n",
    "for n in range(2,11):\n",
    "    beta1 = np.random.beta(2,10, size=(n,T))\n",
    "    beta2 = np.random.beta(10,2, size=(n,T))\n",
    "    beta1.sort(axis=0)\n",
    "    beta2.sort(axis=0)\n",
    "    v1 = beta1[-2,:]\n",
    "    v2 = beta2[-2,:]\n",
    "    ev1.append(np.mean(v1))\n",
    "    ev2.append(np.mean(v2))\n",
    "\n",
    "#Dataframe table for n and ev1, ev2\n",
    "ev1 = pd.DataFrame({'n': range(2,11), 'ev1': ev1})\n",
    "ev2 = pd.DataFrame({'n': range(2,11), 'ev2': ev2})\n",
    "\n",
    "# Merge the two dataframes on n\n",
    "ev = pd.merge(ev1, ev2, on='n', how='outer')\n",
    "display(ev)\n"
   ]
  },
  {
   "cell_type": "markdown",
   "metadata": {},
   "source": [
    "### 4.5"
   ]
  },
  {
   "cell_type": "code",
   "execution_count": 59,
   "metadata": {},
   "outputs": [
    {
     "name": "stdout",
     "output_type": "stream",
     "text": [
      "0.023388999999999993\n",
      "0.01827499999999993\n"
     ]
    }
   ],
   "source": [
    "np.random.seed(1337)\n",
    "\n",
    "def marketing1(p):\n",
    "    beta1 = np.random.beta(2,10, size=(4,T))\n",
    "    beta1 = np.random.beta(2,10, size=(5,T))\n",
    "    beta1.sort(axis=0)\n",
    "    beta2.sort(axis=0)\n",
    "    v1 = beta1[-2,:]\n",
    "    v2 = beta2[-2,:]\n",
    "    return np.abs(np.mean(v1) - (p*(n-2))) - (np.mean(v2) - (p*(n-2)))\n",
    "\n",
    "def marketing2(p):\n",
    "    beta1 = np.random.beta(10,2, size=(4,T))\n",
    "    beta2 = np.random.beta(10,2, size=(5,T))\n",
    "    beta1.sort(axis=0)\n",
    "    beta2.sort(axis=0)\n",
    "    v1 = beta1[-2,:]\n",
    "    v2 = beta2[-2,:]\n",
    "    return np.abs(np.mean(v1) - (p*(n-2))) - (np.mean(v2) - (p*(n-2)))\n",
    "\n",
    "#minimize this shit\n",
    "result1 = minimize_scalar(marketing1, bounds=(0, 5), method='bounded')\n",
    "result2 = minimize_scalar(marketing2, bounds=(0, 5), method='bounded')\n",
    "\n",
    "print(0.210453-0.187064)\n",
    "print(0.892272-0.873997)\n",
    "\n",
    "\n",
    "    "
   ]
  },
  {
   "cell_type": "markdown",
   "metadata": {},
   "source": [
    "### 4.6"
   ]
  },
  {
   "cell_type": "code",
   "execution_count": 60,
   "metadata": {},
   "outputs": [
    {
     "data": {
      "text/html": [
       "<div>\n",
       "<style scoped>\n",
       "    .dataframe tbody tr th:only-of-type {\n",
       "        vertical-align: middle;\n",
       "    }\n",
       "\n",
       "    .dataframe tbody tr th {\n",
       "        vertical-align: top;\n",
       "    }\n",
       "\n",
       "    .dataframe thead th {\n",
       "        text-align: right;\n",
       "    }\n",
       "</style>\n",
       "<table border=\"1\" class=\"dataframe\">\n",
       "  <thead>\n",
       "    <tr style=\"text-align: right;\">\n",
       "      <th></th>\n",
       "      <th>n</th>\n",
       "      <th>ev1</th>\n",
       "      <th>ev11</th>\n",
       "    </tr>\n",
       "  </thead>\n",
       "  <tbody>\n",
       "    <tr>\n",
       "      <th>0</th>\n",
       "      <td>2</td>\n",
       "      <td>0.110016</td>\n",
       "      <td>0.166933</td>\n",
       "    </tr>\n",
       "    <tr>\n",
       "      <th>1</th>\n",
       "      <td>3</td>\n",
       "      <td>0.154964</td>\n",
       "      <td>0.167754</td>\n",
       "    </tr>\n",
       "    <tr>\n",
       "      <th>2</th>\n",
       "      <td>4</td>\n",
       "      <td>0.186723</td>\n",
       "      <td>0.168251</td>\n",
       "    </tr>\n",
       "    <tr>\n",
       "      <th>3</th>\n",
       "      <td>5</td>\n",
       "      <td>0.208371</td>\n",
       "      <td>0.167134</td>\n",
       "    </tr>\n",
       "    <tr>\n",
       "      <th>4</th>\n",
       "      <td>6</td>\n",
       "      <td>0.226799</td>\n",
       "      <td>0.165139</td>\n",
       "    </tr>\n",
       "    <tr>\n",
       "      <th>5</th>\n",
       "      <td>7</td>\n",
       "      <td>0.240108</td>\n",
       "      <td>0.167807</td>\n",
       "    </tr>\n",
       "    <tr>\n",
       "      <th>6</th>\n",
       "      <td>8</td>\n",
       "      <td>0.254354</td>\n",
       "      <td>0.167347</td>\n",
       "    </tr>\n",
       "    <tr>\n",
       "      <th>7</th>\n",
       "      <td>9</td>\n",
       "      <td>0.264006</td>\n",
       "      <td>0.167164</td>\n",
       "    </tr>\n",
       "    <tr>\n",
       "      <th>8</th>\n",
       "      <td>10</td>\n",
       "      <td>0.272156</td>\n",
       "      <td>0.168448</td>\n",
       "    </tr>\n",
       "  </tbody>\n",
       "</table>\n",
       "</div>"
      ],
      "text/plain": [
       "    n       ev1      ev11\n",
       "0   2  0.110016  0.166933\n",
       "1   3  0.154964  0.167754\n",
       "2   4  0.186723  0.168251\n",
       "3   5  0.208371  0.167134\n",
       "4   6  0.226799  0.165139\n",
       "5   7  0.240108  0.167807\n",
       "6   8  0.254354  0.167347\n",
       "7   9  0.264006  0.167164\n",
       "8  10  0.272156  0.168448"
      ]
     },
     "metadata": {},
     "output_type": "display_data"
    },
    {
     "data": {
      "text/html": [
       "<div>\n",
       "<style scoped>\n",
       "    .dataframe tbody tr th:only-of-type {\n",
       "        vertical-align: middle;\n",
       "    }\n",
       "\n",
       "    .dataframe tbody tr th {\n",
       "        vertical-align: top;\n",
       "    }\n",
       "\n",
       "    .dataframe thead th {\n",
       "        text-align: right;\n",
       "    }\n",
       "</style>\n",
       "<table border=\"1\" class=\"dataframe\">\n",
       "  <thead>\n",
       "    <tr style=\"text-align: right;\">\n",
       "      <th></th>\n",
       "      <th>n</th>\n",
       "      <th>ev2</th>\n",
       "      <th>ev22</th>\n",
       "    </tr>\n",
       "  </thead>\n",
       "  <tbody>\n",
       "    <tr>\n",
       "      <th>0</th>\n",
       "      <td>2</td>\n",
       "      <td>0.774179</td>\n",
       "      <td>0.832527</td>\n",
       "    </tr>\n",
       "    <tr>\n",
       "      <th>1</th>\n",
       "      <td>3</td>\n",
       "      <td>0.843447</td>\n",
       "      <td>0.834567</td>\n",
       "    </tr>\n",
       "    <tr>\n",
       "      <th>2</th>\n",
       "      <td>4</td>\n",
       "      <td>0.874646</td>\n",
       "      <td>0.833857</td>\n",
       "    </tr>\n",
       "    <tr>\n",
       "      <th>3</th>\n",
       "      <td>5</td>\n",
       "      <td>0.891647</td>\n",
       "      <td>0.834488</td>\n",
       "    </tr>\n",
       "    <tr>\n",
       "      <th>4</th>\n",
       "      <td>6</td>\n",
       "      <td>0.904091</td>\n",
       "      <td>0.833058</td>\n",
       "    </tr>\n",
       "    <tr>\n",
       "      <th>5</th>\n",
       "      <td>7</td>\n",
       "      <td>0.913083</td>\n",
       "      <td>0.833012</td>\n",
       "    </tr>\n",
       "    <tr>\n",
       "      <th>6</th>\n",
       "      <td>8</td>\n",
       "      <td>0.920273</td>\n",
       "      <td>0.832636</td>\n",
       "    </tr>\n",
       "    <tr>\n",
       "      <th>7</th>\n",
       "      <td>9</td>\n",
       "      <td>0.926401</td>\n",
       "      <td>0.832434</td>\n",
       "    </tr>\n",
       "    <tr>\n",
       "      <th>8</th>\n",
       "      <td>10</td>\n",
       "      <td>0.930055</td>\n",
       "      <td>0.833877</td>\n",
       "    </tr>\n",
       "  </tbody>\n",
       "</table>\n",
       "</div>"
      ],
      "text/plain": [
       "    n       ev2      ev22\n",
       "0   2  0.774179  0.832527\n",
       "1   3  0.843447  0.834567\n",
       "2   4  0.874646  0.833857\n",
       "3   5  0.891647  0.834488\n",
       "4   6  0.904091  0.833058\n",
       "5   7  0.913083  0.833012\n",
       "6   8  0.920273  0.832636\n",
       "7   9  0.926401  0.832434\n",
       "8  10  0.930055  0.833877"
      ]
     },
     "metadata": {},
     "output_type": "display_data"
    }
   ],
   "source": [
    "ev1 = []\n",
    "ev11 = []\n",
    "ev2 = []\n",
    "ev22 = []\n",
    "\n",
    "for n in range(2,11):\n",
    "    beta1 = np.random.beta(2,10, size=(n,T))\n",
    "    beta2 = np.random.beta(10,2, size=(n,T))\n",
    "    beta1.sort(axis=0)\n",
    "    beta2.sort(axis=0)\n",
    "    #draw from beta dist T times\n",
    "    tioli1 = np.random.beta(2,10, size=T)\n",
    "    tioli2 = np.random.beta(10,2, size=T)\n",
    "    v1 = beta1[-2,:]\n",
    "    v2 = beta2[-2,:]\n",
    "    ev1.append(np.mean(v1))\n",
    "    ev2.append(np.mean(v2))\n",
    "    ev11.append(np.mean(tioli1))\n",
    "    ev22.append(np.mean(tioli2))\n",
    "\n",
    "#Compare ev1 and ev11\n",
    "ev1 = pd.DataFrame({'n': range(2,11), 'ev1': ev1})\n",
    "ev11 = pd.DataFrame({'n': range(2,11), 'ev11': ev11})\n",
    "ev2 = pd.DataFrame({'n': range(2,11), 'ev2': ev2})\n",
    "ev22 = pd.DataFrame({'n': range(2,11), 'ev22': ev22})\n",
    "\n",
    "# Merge the two dataframes on n\n",
    "result1 = pd.merge(ev1, ev11, on='n', how='outer')\n",
    "result2 = pd.merge(ev2, ev22, on='n', how='outer')\n",
    "display(result1, result2)"
   ]
  },
  {
   "cell_type": "code",
   "execution_count": null,
   "metadata": {},
   "outputs": [],
   "source": []
  }
 ],
 "metadata": {
  "kernelspec": {
   "display_name": "base",
   "language": "python",
   "name": "python3"
  },
  "language_info": {
   "codemirror_mode": {
    "name": "ipython",
    "version": 3
   },
   "file_extension": ".py",
   "mimetype": "text/x-python",
   "name": "python",
   "nbconvert_exporter": "python",
   "pygments_lexer": "ipython3",
   "version": "3.11.8"
  }
 },
 "nbformat": 4,
 "nbformat_minor": 2
}

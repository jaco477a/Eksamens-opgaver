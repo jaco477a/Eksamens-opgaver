{
 "cells": [
  {
   "cell_type": "code",
   "execution_count": 20,
   "metadata": {},
   "outputs": [],
   "source": [
    "import os, sys\n",
    "sys.path.insert(0, os.path.abspath('..'))\n",
    "import numpy as np\n",
    "import nashpy as nash\n",
    "from IPython.display import display\n",
    "import support_enumeration as se\n",
    "import BNE as BNE\n",
    "import IESDS as IESDS"
   ]
  },
  {
   "cell_type": "markdown",
   "metadata": {},
   "source": [
    "### 1.1"
   ]
  },
  {
   "cell_type": "code",
   "execution_count": 26,
   "metadata": {},
   "outputs": [
    {
     "name": "stdout",
     "output_type": "stream",
     "text": [
      "[(array([1., 0.]), array([1., 0.]))]\n",
      "[(array([1., 0.]), array([1., 0.])), (array([1., 0.]), array([0., 1.])), (array([0., 1.]), array([1., 0.]))]\n",
      "[(array([1., 0.]), array([0., 1.])), (array([0., 1.]), array([1., 0.])), (array([0., 1.]), array([0., 1.]))]\n"
     ]
    }
   ],
   "source": [
    "for x in [1, 4, 10]:\n",
    "    U1 = np.array([[4 - x, 10 - x], [0, 0]])\n",
    "    U2 = np.array([[4 - x, 0], [10 - x, 0]])\n",
    "\n",
    "    NE = se.msne(U1, U2)\n",
    "\n",
    "    print(NE)"
   ]
  },
  {
   "cell_type": "markdown",
   "metadata": {},
   "source": [
    "### 1.2"
   ]
  },
  {
   "cell_type": "code",
   "execution_count": 22,
   "metadata": {},
   "outputs": [
    {
     "name": "stdout",
     "output_type": "stream",
     "text": [
      "[(array([1., 0.]), array([0., 1.])), (array([0., 1.]), array([1., 0.]))]\n",
      "[(array([1., 0.]), array([0., 1.])), (array([0., 1.]), array([1., 0.])), (array([0., 1.]), array([0., 1.]))]\n",
      "[(array([0., 1.]), array([1., 0.])), (array([0., 1.]), array([0., 1.]))]\n"
     ]
    },
    {
     "name": "stderr",
     "output_type": "stream",
     "text": [
      "c:\\Users\\elias\\anaconda3\\Lib\\site-packages\\nashpy\\algorithms\\support_enumeration.py:260: RuntimeWarning: \n",
      "An even number of (2) equilibria was returned. This\n",
      "indicates that the game is degenerate. Consider using another algorithm\n",
      "to investigate.\n",
      "                  \n",
      "  warnings.warn(warning, RuntimeWarning)\n"
     ]
    }
   ],
   "source": [
    "for x in [1, 4, 100]:\n",
    "    U1 = np.array([[4 - x, 4 - x], [10 - x, 0]])\n",
    "    U2 = np.array([[0, 10 - x], [0, 0]])\n",
    "\n",
    "    NE = se.msne(U1, U2)\n",
    "\n",
    "    print(NE)"
   ]
  },
  {
   "cell_type": "markdown",
   "metadata": {},
   "source": [
    "### 1.3"
   ]
  },
  {
   "cell_type": "code",
   "execution_count": 23,
   "metadata": {},
   "outputs": [
    {
     "ename": "NameError",
     "evalue": "name 'U1A' is not defined",
     "output_type": "error",
     "traceback": [
      "\u001b[1;31m---------------------------------------------------------------------------\u001b[0m",
      "\u001b[1;31mNameError\u001b[0m                                 Traceback (most recent call last)",
      "Cell \u001b[1;32mIn[23], line 1\u001b[0m\n\u001b[1;32m----> 1\u001b[0m U1 \u001b[38;5;241m=\u001b[39m [U1A ,U1B]\n\u001b[0;32m      2\u001b[0m U2 \u001b[38;5;241m=\u001b[39m [U2A,U2B]\n\u001b[0;32m      4\u001b[0m action \u001b[38;5;241m=\u001b[39m [\u001b[38;5;124m'\u001b[39m\u001b[38;5;124mJ\u001b[39m\u001b[38;5;124m'\u001b[39m,\u001b[38;5;124m'\u001b[39m\u001b[38;5;124mN\u001b[39m\u001b[38;5;124m'\u001b[39m]\n",
      "\u001b[1;31mNameError\u001b[0m: name 'U1A' is not defined"
     ]
    }
   ],
   "source": [
    "U1 = [U1A ,U1B]\n",
    "U2 = [U2A,U2B]\n",
    "\n",
    "action = ['J','N']\n",
    "\n",
    "BU1, BU2 = BNE.compute_full_matrix(U1,U2,(1/2), action, action)\n",
    "\n",
    "#IESDS\n",
    "U1, U2, aa1, aa2 = IESDS.IESDS(BU1[0], BU2[0])\n",
    "\n",
    "result = BNE.compute_bne(U1,U2)\n",
    "\n",
    "print(f\"p = {1/2}: BNE {result}\")\n",
    "display(BU1[1])\n",
    "display(BU2[1])"
   ]
  },
  {
   "cell_type": "code",
   "execution_count": null,
   "metadata": {},
   "outputs": [],
   "source": []
  }
 ],
 "metadata": {
  "kernelspec": {
   "display_name": "base",
   "language": "python",
   "name": "python3"
  },
  "language_info": {
   "codemirror_mode": {
    "name": "ipython",
    "version": 3
   },
   "file_extension": ".py",
   "mimetype": "text/x-python",
   "name": "python",
   "nbconvert_exporter": "python",
   "pygments_lexer": "ipython3",
   "version": "3.11.7"
  }
 },
 "nbformat": 4,
 "nbformat_minor": 2
}

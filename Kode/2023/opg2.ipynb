{
 "cells": [
  {
   "cell_type": "code",
   "execution_count": 31,
   "metadata": {},
   "outputs": [],
   "source": [
    "from itertools import combinations\n",
    "import os, sys\n",
    "sys.path.insert(0, os.path.abspath('..'))\n",
    "import numpy as np \n",
    "import pandas as pd \n",
    "import seaborn as sns\n",
    "import matplotlib.pyplot as plt\n",
    "from scipy.optimize import linprog\n",
    "import IESDS\n",
    "import order_k\n",
    "import BFPSNS\n",
    "import Linear_programming\n",
    "import support_enumeration as se\n"
   ]
  },
  {
   "cell_type": "code",
   "execution_count": 32,
   "metadata": {},
   "outputs": [
    {
     "name": "stdout",
     "output_type": "stream",
     "text": [
      "['Undead Priest' 'Unholy Death Knight' 'Pure Paladin' 'Blood Death Knight'\n",
      " 'Frost Death Knight' 'Other Rogue' 'Control Priest' 'Burn Mage'\n",
      " 'Thaddius Warlock' 'Spooky Mage' 'Totem Shaman' 'Big Beast Hunter'\n",
      " 'Rainbow Death Knight' 'Face Hunter' 'Silver Hand Paladin'\n",
      " \"Riff 'n' Roll Warrior\" 'Enrage Warrior' 'Thief Priest'\n",
      " 'Big Demon Hunter' 'Other Mage' 'Curse Warlock' 'Fatigue Imp Warlock'\n",
      " 'Other Death Knight' 'Other Priest' 'Mech Paladin' 'Zok Druid'\n",
      " 'Curse Imp Warlock' 'Miracle Rogue' 'Mech Mage' 'Dagger Rogue'\n",
      " 'Other Warrior' 'Other Warlock' 'Other Druid' 'Casino Mage'\n",
      " 'Relic Demon Hunter' 'Secret Rogue' 'Lightshow Mage']\n"
     ]
    }
   ],
   "source": [
    "win = pd.read_csv( 'winrates.csv', index_col =0)\n",
    "playrates = pd.read_csv( 'playrates.csv' , index_col =0)\n",
    "deck = playrates.index.values # liste af navne på deck\n",
    "print(deck)\n",
    "U = win.values # konverteret til numpy\n",
    "dat = pd.DataFrame(U, index=deck, columns=deck)"
   ]
  },
  {
   "cell_type": "markdown",
   "metadata": {},
   "source": [
    "### 2.1:"
   ]
  },
  {
   "cell_type": "code",
   "execution_count": 33,
   "metadata": {},
   "outputs": [
    {
     "name": "stdout",
     "output_type": "stream",
     "text": [
      "1th order rational player plays: Pure Paladin\n",
      "2th order rational player plays: Frost Death Knight\n",
      "3th order rational player plays: Thaddius Warlock\n",
      "4th order rational player plays: Pure Paladin\n",
      "5th order rational player plays: Frost Death Knight\n",
      "6th order rational player plays: Thaddius Warlock\n",
      "7th order rational player plays: Pure Paladin\n",
      "8th order rational player plays: Frost Death Knight\n",
      "9th order rational player plays: Thaddius Warlock\n",
      "10th order rational player plays: Pure Paladin\n"
     ]
    }
   ],
   "source": [
    "U1 = dat.values # numpy array \n",
    "U2 = -dat.values\n",
    "\n",
    "rows = dat.index\n",
    "cols = dat.columns\n",
    "decks = rows\n",
    "\n",
    "for i in range(11):\n",
    "    if i > 0:\n",
    "        print(f\"{i}th order rational player plays: {decks[order_k.order_k_rationality(U1, U2, i) > 0][0]}\")"
   ]
  },
  {
   "cell_type": "markdown",
   "metadata": {},
   "source": [
    "### 2.2:"
   ]
  },
  {
   "cell_type": "code",
   "execution_count": 38,
   "metadata": {},
   "outputs": [
    {
     "name": "stdout",
     "output_type": "stream",
     "text": [
      "62.887686913421355\n",
      "Pure Paladin\n"
     ]
    }
   ],
   "source": [
    "U1 = dat.values\n",
    "U2 = -dat.values\n",
    "\n",
    "playrates1 = playrates.copy()\n",
    "\n",
    "#playrates_sorted = playrates1.sort_values(by='deck', ascending=True)\n",
    "playrates_values= playrates1.values\n",
    "# print(playrates_values.shape)\n",
    "# print(playrates_values)\n",
    "\n",
    "expected_payoffs = U1 @ playrates_values[:, 0]\n",
    "print(max(expected_payoffs))\n",
    "max_index = np.argmax(expected_payoffs)\n",
    "print(decks[max_index])"
   ]
  },
  {
   "cell_type": "markdown",
   "metadata": {},
   "source": [
    "### 2.3:"
   ]
  },
  {
   "cell_type": "code",
   "execution_count": 39,
   "metadata": {},
   "outputs": [
    {
     "name": "stdout",
     "output_type": "stream",
     "text": [
      "Mixed strategies: [0.17912841 0.         0.08906463 0.26287558 0.3389971  0.\n",
      " 0.         0.         0.         0.         0.         0.\n",
      " 0.         0.12993428 0.         0.         0.         0.\n",
      " 0.         0.         0.         0.         0.         0.\n",
      " 0.         0.         0.         0.         0.         0.\n",
      " 0.         0.         0.         0.         0.         0.\n",
      " 0.        ]\n"
     ]
    }
   ],
   "source": [
    "mixed_res = Linear_programming.solve_by_LP(U1)\n",
    "print(f'Mixed strategies: {mixed_res}')"
   ]
  },
  {
   "cell_type": "markdown",
   "metadata": {},
   "source": []
  },
  {
   "cell_type": "markdown",
   "metadata": {},
   "source": []
  }
 ],
 "metadata": {
  "kernelspec": {
   "display_name": "base",
   "language": "python",
   "name": "python3"
  },
  "language_info": {
   "codemirror_mode": {
    "name": "ipython",
    "version": 3
   },
   "file_extension": ".py",
   "mimetype": "text/x-python",
   "name": "python",
   "nbconvert_exporter": "python",
   "pygments_lexer": "ipython3",
   "version": "3.11.8"
  }
 },
 "nbformat": 4,
 "nbformat_minor": 2
}

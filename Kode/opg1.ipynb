{
 "cells": [
  {
   "cell_type": "code",
   "execution_count": 17,
   "metadata": {},
   "outputs": [],
   "source": [
    "import numpy as np\n",
    "import nashpy as nash\n",
    "import support_enumeration as se\n",
    "import BNE as BNE"
   ]
  },
  {
   "cell_type": "markdown",
   "metadata": {},
   "source": [
    "# Eksamenssæt 2021"
   ]
  },
  {
   "cell_type": "markdown",
   "metadata": {},
   "source": [
    "## Opgave 1:"
   ]
  },
  {
   "cell_type": "markdown",
   "metadata": {},
   "source": [
    "### 1."
   ]
  },
  {
   "cell_type": "markdown",
   "metadata": {},
   "source": [
    "##### 1.1 Antag p = 1: Find alle Nash-ligevægte."
   ]
  },
  {
   "cell_type": "code",
   "execution_count": 18,
   "metadata": {},
   "outputs": [
    {
     "name": "stdout",
     "output_type": "stream",
     "text": [
      "[(array([0.6, 0.4]), array([0.5, 0.5]))]\n"
     ]
    }
   ],
   "source": [
    "U1V = np.array([[1, -1], [-1, 1]])\n",
    "U2V = np.array([[-1, 1], [2, -1]])\n",
    "\n",
    "NE1 = se.msne(U1V, U2V)\n",
    "\n",
    "print(NE1)"
   ]
  },
  {
   "cell_type": "markdown",
   "metadata": {},
   "source": [
    "##### 1.2 Antag p = 0: Find alle Nash-ligevægte."
   ]
  },
  {
   "cell_type": "code",
   "execution_count": 19,
   "metadata": {},
   "outputs": [
    {
     "name": "stdout",
     "output_type": "stream",
     "text": [
      "[(array([0.4, 0.6]), array([0.5, 0.5]))]\n"
     ]
    }
   ],
   "source": [
    "U1H = np.array([[1, -1], [-1, 1]])\n",
    "U2H = np.array([[-1, 2], [1, -1]])\n",
    "\n",
    "NE2 = se.msne(U1H, U2H)\n",
    "\n",
    "print(NE2)"
   ]
  },
  {
   "cell_type": "markdown",
   "metadata": {},
   "source": [
    "##### 1.3 Find alle Bayesianske Nash-ligevægte"
   ]
  },
  {
   "cell_type": "code",
   "execution_count": 22,
   "metadata": {},
   "outputs": [
    {
     "name": "stdout",
     "output_type": "stream",
     "text": [
      "p = 0.125: BNE [(array([0.4, 0.6]), array([0.42857143, 0.57142857, 0.        , 0.        ]))]\n",
      "p = 0.25: BNE [(array([0.4, 0.6]), array([0.33333333, 0.66666667, 0.        , 0.        ]))]\n",
      "p = 0.375: BNE [(array([0.4, 0.6]), array([0.2, 0.8, 0. , 0. ]))]\n",
      "p = 0.5: BNE []\n",
      "p = 0.625: BNE [(array([0.6, 0.4]), array([2.77555756e-17, 8.00000000e-01, 0.00000000e+00, 2.00000000e-01]))]\n",
      "p = 0.75: BNE [(array([0.6, 0.4]), array([0.00000000e+00, 6.66666667e-01, 2.77555756e-17, 3.33333333e-01]))]\n",
      "p = 0.875: BNE []\n"
     ]
    }
   ],
   "source": [
    "U1 = [U1V,U1H]\n",
    "U2 = [U2V,U2H]\n",
    "\n",
    "action = ['V','H']\n",
    "\n",
    "for i in range(1,8):\n",
    "    BU1, BU2 = BNE.compute_full_matrix(U1,U2,(i/8), action, action)\n",
    "    result = BNE.compute_bne(BU1[0], BU2[0])\n",
    "    print(f\"p = {i/8}: BNE {result}\")\n"
   ]
  },
  {
   "cell_type": "code",
   "execution_count": null,
   "metadata": {},
   "outputs": [],
   "source": []
  }
 ],
 "metadata": {
  "kernelspec": {
   "display_name": "base",
   "language": "python",
   "name": "python3"
  },
  "language_info": {
   "codemirror_mode": {
    "name": "ipython",
    "version": 3
   },
   "file_extension": ".py",
   "mimetype": "text/x-python",
   "name": "python",
   "nbconvert_exporter": "python",
   "pygments_lexer": "ipython3",
   "version": "3.11.8"
  }
 },
 "nbformat": 4,
 "nbformat_minor": 2
}

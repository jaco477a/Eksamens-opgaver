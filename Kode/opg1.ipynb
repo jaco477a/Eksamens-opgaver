{
 "cells": [
  {
   "cell_type": "code",
   "execution_count": 5,
   "metadata": {},
   "outputs": [],
   "source": [
    "import numpy as np\n",
    "import nashpy as nash\n",
    "import support_enumeration as se"
   ]
  },
  {
   "cell_type": "markdown",
   "metadata": {},
   "source": [
    "# Eksamenssæt 2021"
   ]
  },
  {
   "cell_type": "markdown",
   "metadata": {},
   "source": [
    "## Opgave 1:"
   ]
  },
  {
   "cell_type": "markdown",
   "metadata": {},
   "source": [
    "### 1."
   ]
  },
  {
   "cell_type": "markdown",
   "metadata": {},
   "source": [
    "##### 1.1 Antag p = 1: Find alle Nash-ligevægte."
   ]
  },
  {
   "cell_type": "code",
   "execution_count": 6,
   "metadata": {},
   "outputs": [
    {
     "name": "stdout",
     "output_type": "stream",
     "text": [
      "[(array([0.6, 0.4]), array([0.5, 0.5]))]\n"
     ]
    }
   ],
   "source": [
    "U1 = np.array([[1, -1], [-1, 1]])\n",
    "U2 = np.array([[-1, 1], [2, -1]])\n",
    "\n",
    "NE1 = se.msne(U1, U2)\n",
    "\n",
    "print(NE1)"
   ]
  },
  {
   "cell_type": "markdown",
   "metadata": {},
   "source": [
    "##### 1.2 Antag p = 0: Find alle Nash-ligevægte."
   ]
  },
  {
   "cell_type": "code",
   "execution_count": 7,
   "metadata": {},
   "outputs": [
    {
     "name": "stdout",
     "output_type": "stream",
     "text": [
      "[(array([0.4, 0.6]), array([0.5, 0.5]))]\n"
     ]
    }
   ],
   "source": [
    "U1 = np.array([[1, -1], [-1, 1]])\n",
    "U2 = np.array([[-1, 2], [1, -1]])\n",
    "\n",
    "NE2 = se.msne(U1, U2)\n",
    "\n",
    "print(NE2)"
   ]
  }
 ],
 "metadata": {
  "kernelspec": {
   "display_name": "base",
   "language": "python",
   "name": "python3"
  },
  "language_info": {
   "codemirror_mode": {
    "name": "ipython",
    "version": 3
   },
   "file_extension": ".py",
   "mimetype": "text/x-python",
   "name": "python",
   "nbconvert_exporter": "python",
   "pygments_lexer": "ipython3",
   "version": "3.11.8"
  }
 },
 "nbformat": 4,
 "nbformat_minor": 2
}

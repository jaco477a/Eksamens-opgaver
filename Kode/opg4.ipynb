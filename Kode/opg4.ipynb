{
 "cells": [
  {
   "cell_type": "code",
   "execution_count": 1,
   "id": "da01d291",
   "metadata": {},
   "outputs": [],
   "source": [
    "import copy \n",
    "import numpy as np \n",
    "import pandas as pd \n",
    "import seaborn as sns\n",
    "import matplotlib.pyplot as plt\n",
    "from scipy.optimize import linprog\n",
    "from scipy.optimize import minimize \n",
    "import IESDS\n",
    "import order_k\n",
    "import BFPSNS\n",
    "import Linear_programming\n",
    "from scipy.optimize import minimize_scalar\n",
    "\n",
    "import nashpy as nash\n",
    "\n",
    "# this module contains the data\n",
    "import hst "
   ]
  },
  {
   "cell_type": "code",
   "execution_count": 3,
   "id": "62433968",
   "metadata": {},
   "outputs": [],
   "source": [
    "df = pd.read_csv('auction_prices.csv')\n",
    "p = df.values"
   ]
  },
  {
   "cell_type": "markdown",
   "id": "3d5178aa",
   "metadata": {},
   "source": [
    "### 1."
   ]
  },
  {
   "cell_type": "code",
   "execution_count": 13,
   "id": "9845deca",
   "metadata": {},
   "outputs": [
    {
     "name": "stdout",
     "output_type": "stream",
     "text": [
      "[3.669177038314017, 4.443362696065085, 5.206601472706179, 5.984142794907622, 6.762981469165628, 7.5244011671733135, 8.293063555075358, 9.084875934963865, 9.848643903256699, 10.60873271556832, 11.378351889126074, 12.177049435672476, 12.911876103623127, 13.713345939204732, 14.456317367608404, 15.262167266064612, 16.056344880197315, 16.799030875790606, 17.594953444979332, 18.349319549479812]\n",
      "Mean price: 8.436091118086878\n"
     ]
    }
   ],
   "source": [
    "R = 100_000 \n",
    "n = 5\n",
    "k = 3\n",
    "win_b = []\n",
    "thetas = np.linspace(1, 5, 20)\n",
    "for theta in thetas:\n",
    "    v = np.random.gamma(k,theta,(R, n))\n",
    "    p_spsb = np.sort(v, axis=1)[:,-2]\n",
    "    p_spsb = np.mean(p_spsb)\n",
    "    win_b.append(p_spsb)\n",
    "\n",
    "print(win_b)\n",
    "\n",
    "data_mean_p = np.mean(p)\n",
    "print(\"Mean price:\", data_mean_p)"
   ]
  },
  {
   "cell_type": "code",
   "execution_count": 15,
   "id": "c5afe14e",
   "metadata": {},
   "outputs": [
    {
     "name": "stdout",
     "output_type": "stream",
     "text": [
      "Theta: 2.313131313131313\n",
      "8.482840548176634\n"
     ]
    }
   ],
   "source": [
    "win_b = []\n",
    "thetas = np.linspace(1, 3, 100)\n",
    "for theta in thetas:\n",
    "    v = np.random.gamma(k,theta,(R, n))\n",
    "    p_spsb = np.sort(v, axis=1)[:,-2]\n",
    "    p_spsb = np.mean(p_spsb)\n",
    "    win_b.append(p_spsb)\n",
    "    if data_mean_p - p_spsb < 0.01:\n",
    "        print(\"Theta:\", theta)\n",
    "        close_theta = theta\n",
    "        break\n",
    "\n",
    "v = np.random.gamma(k,close_theta,(R, n))\n",
    "p_spsb = np.sort(v, axis=1)[:,-2]\n",
    "p_spsb = np.mean(p_spsb)\n",
    "print(p_spsb)"
   ]
  },
  {
   "cell_type": "markdown",
   "id": "cd3d3b6a",
   "metadata": {},
   "source": [
    "### 2."
   ]
  },
  {
   "cell_type": "code",
   "execution_count": null,
   "id": "6df4d265",
   "metadata": {},
   "outputs": [],
   "source": []
  }
 ],
 "metadata": {
  "kernelspec": {
   "display_name": "base",
   "language": "python",
   "name": "python3"
  },
  "language_info": {
   "codemirror_mode": {
    "name": "ipython",
    "version": 3
   },
   "file_extension": ".py",
   "mimetype": "text/x-python",
   "name": "python",
   "nbconvert_exporter": "python",
   "pygments_lexer": "ipython3",
   "version": "3.11.7"
  }
 },
 "nbformat": 4,
 "nbformat_minor": 5
}
